{
 "cells": [
  {
   "cell_type": "code",
   "execution_count": 2,
   "metadata": {},
   "outputs": [],
   "source": [
    "from loader import loadData\n",
    "import pandas as pd\n",
    "\n"
   ]
  },
  {
   "cell_type": "markdown",
   "metadata": {},
   "source": [
    "Load the data"
   ]
  },
  {
   "cell_type": "code",
   "execution_count": 25,
   "metadata": {},
   "outputs": [
    {
     "name": "stdout",
     "output_type": "stream",
     "text": [
      "1000\n"
     ]
    }
   ],
   "source": [
    "df = loadData()"
   ]
  },
  {
   "cell_type": "markdown",
   "metadata": {},
   "source": [
    "Top 10 Handsets"
   ]
  },
  {
   "cell_type": "code",
   "execution_count": 45,
   "metadata": {},
   "outputs": [
    {
     "name": "stdout",
     "output_type": "stream",
     "text": [
      "Handset Type\n",
      "undefined                       85\n",
      "Apple iPhone 6S (A1688)         72\n",
      "Apple iPhone 6 (A1586)          51\n",
      "Samsung Galaxy S8 (Sm-G950F)    47\n",
      "Apple iPhone Xr (A2105)         45\n",
      "Samsung Galaxy A5 Sm-A520F      43\n",
      "Samsung Galaxy J3 (Sm-J330)     43\n",
      "Apple iPhone 7 (A1778)          40\n",
      "Samsung Galaxy J5 (Sm-J530)     37\n",
      "Apple iPhone 8 (A1905)          37\n",
      "Name: count, dtype: int64\n",
      "['undefined', 'Apple iPhone 6S (A1688)', 'Apple iPhone 6 (A1586)', 'Samsung Galaxy S8 (Sm-G950F)', 'Apple iPhone Xr (A2105)', 'Samsung Galaxy A5 Sm-A520F', 'Samsung Galaxy J3 (Sm-J330)', 'Apple iPhone 7 (A1778)', 'Samsung Galaxy J5 (Sm-J530)', 'Apple iPhone 8 (A1905)']\n"
     ]
    }
   ],
   "source": [
    "\n",
    "value_counts = df['Handset Type'].value_counts()[:10]\n",
    "top_10_handsets = value_counts.index.tolist()\n",
    "print(value_counts)\n",
    "print(top_10_handsets)"
   ]
  },
  {
   "cell_type": "markdown",
   "metadata": {},
   "source": [
    "The top 3 handset manufacturers"
   ]
  },
  {
   "cell_type": "code",
   "execution_count": 44,
   "metadata": {},
   "outputs": [
    {
     "name": "stdout",
     "output_type": "stream",
     "text": [
      "Handset Manufacturer\n",
      "Apple      405\n",
      "Samsung    374\n",
      "Huawei     128\n",
      "Name: count, dtype: int64\n",
      "['Apple', 'Samsung', 'Huawei']\n"
     ]
    }
   ],
   "source": [
    "value_counts = df['Handset Manufacturer'].value_counts()[:3]\n",
    "top_3_manufacturers = value_counts.index.tolist()\n",
    "print(value_counts)\n",
    "print(top_3_manufacturers)"
   ]
  },
  {
   "cell_type": "markdown",
   "metadata": {},
   "source": [
    "Top 5 handsets per top 3 manufacturer"
   ]
  },
  {
   "cell_type": "code",
   "execution_count": 60,
   "metadata": {},
   "outputs": [
    {
     "name": "stdout",
     "output_type": "stream",
     "text": [
      "Handset Type\n",
      "Apple iPhone 6S (A1688)    72\n",
      "Apple iPhone 6 (A1586)     51\n",
      "Apple iPhone Xr (A2105)    45\n",
      "Apple iPhone 7 (A1778)     40\n",
      "Apple iPhone 8 (A1905)     37\n",
      "Name: count, dtype: int64\n",
      "Handset Type\n",
      "Samsung Galaxy S8 (Sm-G950F)    47\n",
      "Samsung Galaxy A5 Sm-A520F      43\n",
      "Samsung Galaxy J3 (Sm-J330)     43\n",
      "Samsung Galaxy J5 (Sm-J530)     37\n",
      "Samsung Galaxy S7 (Sm-G930X)    29\n",
      "Name: count, dtype: int64\n",
      "Handset Type\n",
      "Huawei P20 Lite Huawei Nova 3E    23\n",
      "Huawei P20                        19\n",
      "Huawei P10                        11\n",
      "Huawei P10 Lite                   11\n",
      "Huawei Y6 2018                     7\n",
      "Name: count, dtype: int64\n",
      "['Apple iPhone 6S (A1688)', 'Apple iPhone 6 (A1586)', 'Apple iPhone Xr (A2105)', 'Apple iPhone 7 (A1778)', 'Apple iPhone 8 (A1905)', 'Samsung Galaxy S8 (Sm-G950F)', 'Samsung Galaxy A5 Sm-A520F', 'Samsung Galaxy J3 (Sm-J330)', 'Samsung Galaxy J5 (Sm-J530)', 'Samsung Galaxy S7 (Sm-G930X)', 'Huawei P20 Lite Huawei Nova 3E', 'Huawei P20', 'Huawei P10', 'Huawei P10 Lite', 'Huawei Y6 2018']\n"
     ]
    }
   ],
   "source": [
    "top_5_handsets = []\n",
    "all_top_handsets = []\n",
    "for manufacturer in top_3_manufacturers:\n",
    "    manufacturer_df = df[df['Handset Manufacturer'] == manufacturer]\n",
    "    handset_counts = manufacturer_df['Handset Type'].value_counts()[:5]\n",
    "    all_top_handsets.append(handset_counts)\n",
    "    top_5_handsets.extend(handset_counts.index.tolist())\n",
    "for top_handsets in all_top_handsets:\n",
    "    print(top_handsets)\n",
    "print(top_5_handsets)\n"
   ]
  }
 ],
 "metadata": {
  "interpreter": {
   "hash": "d0f1a46e1b8bb49f6fe66dfa14ba01e1c4ea6e7377c07a6040c9a42d856a631d"
  },
  "kernelspec": {
   "display_name": "Python 3.9.2 64-bit",
   "language": "python",
   "name": "python3"
  },
  "language_info": {
   "codemirror_mode": {
    "name": "ipython",
    "version": 3
   },
   "file_extension": ".py",
   "mimetype": "text/x-python",
   "name": "python",
   "nbconvert_exporter": "python",
   "pygments_lexer": "ipython3",
   "version": "3.9.2"
  },
  "orig_nbformat": 4
 },
 "nbformat": 4,
 "nbformat_minor": 2
}
